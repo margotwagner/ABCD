{
 "cells": [
  {
   "cell_type": "markdown",
   "metadata": {},
   "source": [
    "Initial data exploration script for ABCD Dataset."
   ]
  },
  {
   "cell_type": "markdown",
   "metadata": {},
   "source": [
    "ABCD Youth Diagnostic Interview for DSM-5 5 (KSADS-5) (abcd_ksad501): mental health diagnosis - youth questions"
   ]
  },
  {
   "cell_type": "code",
   "execution_count": 120,
   "metadata": {},
   "outputs": [],
   "source": [
    "import pandas as pd\n",
    "import os"
   ]
  },
  {
   "cell_type": "code",
   "execution_count": 121,
   "metadata": {},
   "outputs": [],
   "source": [
    "data_dir = '/Users/margotwagner/ucsd/research/ABCD/data'\n",
    "ksads_file = 'abcd_ksad501.txt'"
   ]
  },
  {
   "cell_type": "code",
   "execution_count": 122,
   "metadata": {},
   "outputs": [
    {
     "name": "stdout",
     "output_type": "stream",
     "text": [
      "['collection_id', 'abcd_ksad501_id', 'dataset_id', 'The NDAR Global Unique Identifier (GUID) for research subject', \"Subject ID how it's defined in lab/project\", 'Date on which the interview/genetic test/sampling/imaging/biospecimen was completed. MM/DD/YYYY', 'Age in months at the time of the interview/test/sampling/imaging.', 'Sex of subject at birth', 'The event name for which the data was collected', 'Unique ID provided by KSADS for dataset', 'Symptom - Depressed Mood, Present', 'Symptom - Depressed Mood, Past']\n"
     ]
    }
   ],
   "source": [
    "with open(os.path.join(data_dir, ksads_file)) as file:\n",
    "\n",
    "    # create list of subject's data\n",
    "    data_list = []\n",
    "\n",
    "    for i, line in enumerate(file):\n",
    "\n",
    "        # split up lines (tab-separated values)\n",
    "        clean_line = line.strip(\"\\n\").replace('\"',\"\").split(\"\\t\")\n",
    "\n",
    "        # element names\n",
    "        if i == 0:\n",
    "            elem_name = clean_line\n",
    "            depression_i = elem_name.index('ksads_1_2_t')\n",
    "\n",
    "        # element descriptions\n",
    "        elif i == 1:\n",
    "            about_elem = clean_line\n",
    "            print(about_elem[:depression_i+1])\n",
    "\n",
    "        # subject entries are 2-end\n",
    "        else:\n",
    "            data_list.append(clean_line[:depression_i+1])\n",
    "\n",
    "    # convert to dataframe\n",
    "    data = pd.DataFrame(data_list, columns = elem_name[:depression_i+1])"
   ]
  },
  {
   "cell_type": "code",
   "execution_count": 190,
   "metadata": {},
   "outputs": [
    {
     "data": {
      "text/html": [
       "<div>\n",
       "<style scoped>\n",
       "    .dataframe tbody tr th:only-of-type {\n",
       "        vertical-align: middle;\n",
       "    }\n",
       "\n",
       "    .dataframe tbody tr th {\n",
       "        vertical-align: top;\n",
       "    }\n",
       "\n",
       "    .dataframe thead th {\n",
       "        text-align: right;\n",
       "    }\n",
       "</style>\n",
       "<table border=\"1\" class=\"dataframe\">\n",
       "  <thead>\n",
       "    <tr style=\"text-align: right;\">\n",
       "      <th></th>\n",
       "      <th>collection_id</th>\n",
       "      <th>abcd_ksad501_id</th>\n",
       "      <th>dataset_id</th>\n",
       "      <th>subjectkey</th>\n",
       "      <th>src_subject_id</th>\n",
       "      <th>interview_date</th>\n",
       "      <th>interview_age</th>\n",
       "      <th>sex</th>\n",
       "      <th>eventname</th>\n",
       "      <th>ksads_import_id_t</th>\n",
       "      <th>ksads_1_1_t</th>\n",
       "      <th>ksads_1_2_t</th>\n",
       "    </tr>\n",
       "  </thead>\n",
       "  <tbody>\n",
       "  </tbody>\n",
       "</table>\n",
       "</div>"
      ],
      "text/plain": [
       "Empty DataFrame\n",
       "Columns: [collection_id, abcd_ksad501_id, dataset_id, subjectkey, src_subject_id, interview_date, interview_age, sex, eventname, ksads_import_id_t, ksads_1_1_t, ksads_1_2_t]\n",
       "Index: []"
      ]
     },
     "execution_count": 190,
     "metadata": {},
     "output_type": "execute_result"
    }
   ],
   "source": [
    "data.head(0)"
   ]
  },
  {
   "cell_type": "markdown",
   "metadata": {},
   "source": [
    "We can start by looking at depressed patients (present) to see if there are trends in age, gender, and past depression. Comorbidities can be an easy next step by looking at other KSADS categories."
   ]
  },
  {
   "cell_type": "code",
   "execution_count": 124,
   "metadata": {},
   "outputs": [
    {
     "name": "stdout",
     "output_type": "stream",
     "text": [
      "Number of entries: 33515\n"
     ]
    }
   ],
   "source": [
    "print('Number of entries:', data.shape[0])"
   ]
  },
  {
   "cell_type": "markdown",
   "metadata": {},
   "source": [
    "Split the data by event name (baseline, 1-year, 2-year)"
   ]
  },
  {
   "cell_type": "code",
   "execution_count": 135,
   "metadata": {},
   "outputs": [],
   "source": [
    "# split by event name\n",
    "\n",
    "# baseline\n",
    "baseline = data.loc[data['eventname'] == 'baseline_year_1_arm_1']\n",
    "\n",
    "# 1 year follow up\n",
    "year_1 = data.loc[data['eventname'] == '1_year_follow_up_y_arm_1']\n",
    "\n",
    "# 2 year follow up\n",
    "year_2 = data.loc[data['eventname'] == '2_year_follow_up_y_arm_1']"
   ]
  },
  {
   "cell_type": "code",
   "execution_count": 136,
   "metadata": {},
   "outputs": [
    {
     "name": "stdout",
     "output_type": "stream",
     "text": [
      "Number of baseline entries: 11876\n",
      "Number of year 1 entries: 11225\n",
      "Number of year 2 entries: 10414\n"
     ]
    }
   ],
   "source": [
    "print('Number of baseline entries:', baseline.shape[0])\n",
    "print('Number of year 1 entries:', year_1.shape[0])\n",
    "print('Number of year 2 entries:', year_2.shape[0])"
   ]
  },
  {
   "cell_type": "code",
   "execution_count": 140,
   "metadata": {},
   "outputs": [
    {
     "name": "stdout",
     "output_type": "stream",
     "text": [
      "KSADS Inclusion status (year 1): ['555'] - not administered in the assessment\n"
     ]
    }
   ],
   "source": [
    "print('KSADS Inclusion status (year 1):', year_1.ksads_1_1_t.unique(), '- not administered in the assessment')"
   ]
  },
  {
   "cell_type": "code",
   "execution_count": 130,
   "metadata": {},
   "outputs": [
    {
     "name": "stdout",
     "output_type": "stream",
     "text": [
      "KSADS Present Values: ['0' '555' '1' '' '888']\n",
      "KSADS Past Values: ['0' '555' '1' '' '888']\n",
      "555 is \"Not administered in the assessment\"\n",
      "888 is \"Question not asked due to primary question response (branching logic)\"\n"
     ]
    }
   ],
   "source": [
    "print('KSADS Present Values:', data.ksads_1_1_t.unique())\n",
    "print('KSADS Past Values:', data.ksads_1_2_t.unique())\n",
    "print('555 is \"Not administered in the assessment\"')\n",
    "print('888 is \"Question not asked due to primary question response (branching logic)\"')"
   ]
  },
  {
   "cell_type": "markdown",
   "metadata": {},
   "source": [
    "Split by depressed and not depressed (present value)"
   ]
  },
  {
   "cell_type": "code",
   "execution_count": 141,
   "metadata": {},
   "outputs": [
    {
     "name": "stdout",
     "output_type": "stream",
     "text": [
      "Number of depressed subjects (baseline): 288\n",
      "Number of control subjects (baseline): 11516\n",
      "Number of depressed subjects (year 2): 210\n",
      "Number of control subjects (year 2): 10102\n"
     ]
    }
   ],
   "source": [
    "# select depression datapoints\n",
    "# BASELINE\n",
    "# subjects with present depressed mood\n",
    "depressed_baseline = baseline.loc[baseline['ksads_1_1_t'] == '1']\n",
    "print('Number of depressed subjects (baseline):', depressed_baseline.shape[0])\n",
    "\n",
    "# non-depressed subjects\n",
    "control_baseline = baseline.loc[baseline['ksads_1_1_t'] == '0']\n",
    "print('Number of control subjects (baseline):', control_baseline.shape[0])\n",
    "\n",
    "\n",
    "# YEAR 2\n",
    "# subjects with present depressed mood\n",
    "depressed_year_2 = year_2.loc[year_2['ksads_1_1_t'] == '1']\n",
    "print('Number of depressed subjects (year 2):', depressed_year_2.shape[0])\n",
    "\n",
    "# non-depressed subjects\n",
    "control_year_2 = year_2.loc[year_2['ksads_1_1_t'] == '0']\n",
    "print('Number of control subjects (year 2):', control_year_2.shape[0])\n"
   ]
  },
  {
   "cell_type": "markdown",
   "metadata": {},
   "source": [
    "Gender distribution for depressed and not depressed"
   ]
  },
  {
   "cell_type": "code",
   "execution_count": 187,
   "metadata": {},
   "outputs": [],
   "source": [
    "def gender_distribution(data_input, title=\"DATA\"):\n",
    "    total, depressed, control = data_input\n",
    "    print('\\t', title, 'SEX DATA')\n",
    "    print('---------------------------------')\n",
    "    print(\"TOTAL DISTRIBUTION:\", 100*total.groupby('sex').size()/total.shape[0])\n",
    "\n",
    "    print(\"DEPRESSED DISTRIBUTION:\", 100*depressed.groupby('sex').size()/depressed.shape[0])\n",
    "\n",
    "    print(\"CONTROL DISTRIBUTION:\", 100*control.groupby('sex').size()/control.shape[0])"
   ]
  },
  {
   "cell_type": "markdown",
   "metadata": {},
   "source": [
    "Baseline"
   ]
  },
  {
   "cell_type": "code",
   "execution_count": 188,
   "metadata": {},
   "outputs": [
    {
     "name": "stdout",
     "output_type": "stream",
     "text": [
      "\t BASELINE SEX DATA\n",
      "---------------------------------\n",
      "TOTAL DISTRIBUTION: sex\n",
      "F    47.827551\n",
      "M    52.172449\n",
      "dtype: float64\n",
      "DEPRESSED DISTRIBUTION: sex\n",
      "F    46.875\n",
      "M    53.125\n",
      "dtype: float64\n",
      "CONTROL DISTRIBUTION: sex\n",
      "F    47.81174\n",
      "M    52.18826\n",
      "dtype: float64\n"
     ]
    }
   ],
   "source": [
    "gender_distribution([baseline, depressed_baseline, control_baseline], title=\"BASELINE\")"
   ]
  },
  {
   "cell_type": "markdown",
   "metadata": {},
   "source": [
    "Year 2"
   ]
  },
  {
   "cell_type": "code",
   "execution_count": 189,
   "metadata": {},
   "outputs": [
    {
     "name": "stdout",
     "output_type": "stream",
     "text": [
      "\t YEAR 2 SEX DATA\n",
      "---------------------------------\n",
      "TOTAL DISTRIBUTION: sex\n",
      "F    47.647398\n",
      "M    52.352602\n",
      "dtype: float64\n",
      "DEPRESSED DISTRIBUTION: sex\n",
      "F    66.666667\n",
      "M    33.333333\n",
      "dtype: float64\n",
      "CONTROL DISTRIBUTION: sex\n",
      "F    47.238171\n",
      "M    52.761829\n",
      "dtype: float64\n"
     ]
    }
   ],
   "source": [
    "gender_distribution([year_2, depressed_year_2, control_year_2], title=\"YEAR 2\")"
   ]
  },
  {
   "cell_type": "markdown",
   "metadata": {},
   "source": [
    "Age stats"
   ]
  },
  {
   "cell_type": "code",
   "execution_count": 176,
   "metadata": {},
   "outputs": [],
   "source": [
    "def age_stats(data_input, title='DATA'):\n",
    "    print('\\t\\t', title, 'AGE DATA')\n",
    "    print('---------------------------------------------------------------')\n",
    "    print('SUMMARY STATS (months):', data_input.interview_age.astype(int).describe())\n",
    "    print('RANGE (months):', data_input.interview_age.astype(int).max() - data_input.interview_age.astype(int).min())\n",
    "    print('MEDIAN (months):', data_input.interview_age.astype(int).median())\n",
    "    print('MODE (months):', data_input.interview_age.astype(int).mode())\n",
    "    print('MEAN:', data_input.interview_age.astype(int).mean()//12, 'years', round(data_input.interview_age.astype(int).mean()%12), 'months')"
   ]
  },
  {
   "cell_type": "markdown",
   "metadata": {},
   "source": [
    "Baseline"
   ]
  },
  {
   "cell_type": "code",
   "execution_count": 177,
   "metadata": {},
   "outputs": [
    {
     "name": "stdout",
     "output_type": "stream",
     "text": [
      "\t\t BASELINE AGE DATA\n",
      "---------------------------------------------------------------\n",
      "SUMMARY STATS (months): count    11876.000000\n",
      "mean       118.979791\n",
      "std          7.495937\n",
      "min        107.000000\n",
      "25%        112.000000\n",
      "50%        119.000000\n",
      "75%        126.000000\n",
      "max        133.000000\n",
      "Name: interview_age, dtype: float64\n",
      "RANGE (months): 26\n",
      "MEDIAN (months): 119.0\n",
      "MODE (months): 0    108\n",
      "dtype: int64\n",
      "MEAN: 9.0 years 11.0 months\n"
     ]
    }
   ],
   "source": [
    "age_stats(baseline, title='BASELINE')"
   ]
  },
  {
   "cell_type": "markdown",
   "metadata": {},
   "source": [
    "Year 2"
   ]
  },
  {
   "cell_type": "code",
   "execution_count": 178,
   "metadata": {},
   "outputs": [
    {
     "name": "stdout",
     "output_type": "stream",
     "text": [
      "\t\t YEAR 2 AGE DATA\n",
      "---------------------------------------------------------------\n",
      "SUMMARY STATS (months): count    10414.000000\n",
      "mean       144.038890\n",
      "std          7.950735\n",
      "min        127.000000\n",
      "25%        137.000000\n",
      "50%        144.000000\n",
      "75%        151.000000\n",
      "max        168.000000\n",
      "Name: interview_age, dtype: float64\n",
      "RANGE (months): 41\n",
      "MEDIAN (months): 144.0\n",
      "MODE (months): 0    138\n",
      "dtype: int64\n",
      "MEAN: 12.0 years 0.0 months\n"
     ]
    }
   ],
   "source": [
    "age_stats(year_2, title='YEAR 2')"
   ]
  },
  {
   "cell_type": "markdown",
   "metadata": {},
   "source": [
    "Interview dates"
   ]
  },
  {
   "cell_type": "code",
   "execution_count": 147,
   "metadata": {},
   "outputs": [
    {
     "data": {
      "text/plain": [
       "0        02/21/2017\n",
       "2        01/29/2018\n",
       "4        04/08/2018\n",
       "7        06/25/2018\n",
       "11       12/03/2017\n",
       "            ...    \n",
       "33496    07/24/2017\n",
       "33501    03/29/2017\n",
       "33508    06/24/2017\n",
       "33513    06/21/2017\n",
       "33514    08/16/2018\n",
       "Name: interview_date, Length: 11876, dtype: object"
      ]
     },
     "execution_count": 147,
     "metadata": {},
     "output_type": "execute_result"
    }
   ],
   "source": [
    "baseline.interview_date"
   ]
  },
  {
   "cell_type": "code",
   "execution_count": 146,
   "metadata": {},
   "outputs": [
    {
     "data": {
      "text/plain": [
       "5        03/11/2019\n",
       "10       08/14/2019\n",
       "14       08/10/2020\n",
       "15       06/29/2019\n",
       "16       04/16/2019\n",
       "            ...    \n",
       "33495    07/22/2019\n",
       "33498    05/28/2019\n",
       "33503    11/19/2018\n",
       "33507    12/19/2020\n",
       "33511    02/16/2020\n",
       "Name: interview_date, Length: 10414, dtype: object"
      ]
     },
     "execution_count": 146,
     "metadata": {},
     "output_type": "execute_result"
    }
   ],
   "source": [
    "year_2.interview_date"
   ]
  },
  {
   "cell_type": "markdown",
   "metadata": {},
   "source": [
    "Comorbidities"
   ]
  },
  {
   "cell_type": "code",
   "execution_count": null,
   "metadata": {},
   "outputs": [],
   "source": []
  }
 ],
 "metadata": {
  "interpreter": {
   "hash": "aee8b7b246df8f9039afb4144a1f6fd8d2ca17a180786b69acc140d282b71a49"
  },
  "kernelspec": {
   "display_name": "Python 3.8.5 64-bit",
   "language": "python",
   "name": "python3"
  },
  "language_info": {
   "codemirror_mode": {
    "name": "ipython",
    "version": 3
   },
   "file_extension": ".py",
   "mimetype": "text/x-python",
   "name": "python",
   "nbconvert_exporter": "python",
   "pygments_lexer": "ipython3",
   "version": "3.8.5"
  },
  "orig_nbformat": 4
 },
 "nbformat": 4,
 "nbformat_minor": 2
}
